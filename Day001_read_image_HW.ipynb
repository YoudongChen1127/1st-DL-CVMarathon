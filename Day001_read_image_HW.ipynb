{
 "cells": [
  {
   "cell_type": "code",
   "execution_count": 3,
   "metadata": {},
   "outputs": [],
   "source": [
    "import cv2\n",
    "import numpy as np\n",
    "\n",
    "img_path = '/Users/User/Desktop/AImarathon/material/Day1/lena.png'\n",
    "\n",
    "# 以彩色圖片的方式載入\n",
    "img = cv2.imread(img_path, cv2.IMREAD_COLOR)\n",
    "\n",
    "#將一個圖片猜分成BGR三個通道\n",
    "b, g, r = cv2.split(img)\n",
    "\n",
    "#生成一個空白通道\n",
    "blank = np.zeros_like(b)\n",
    "\n",
    "img_blue = cv2.merge([b, blank, blank])\n",
    "img_green = cv2.merge([blank, g, blank])\n",
    "img_red = cv2.merge([blank, blank, r])\n",
    "\n",
    "# 為了要不斷顯示圖片，所以使用一個迴圈\n",
    "while True:\n",
    "    # 顯示藍圖\n",
    "    cv2.imshow('BLUE', img_blue)\n",
    "    # 顯示綠圖\n",
    "    cv2.imshow('GREEN', img_green)\n",
    "    # 顯示紅圖\n",
    "    cv2.imshow('RED', img_red)\n",
    "\n",
    "    # 直到按下 ESC 鍵才會自動關閉視窗結束程式\n",
    "    k = cv2.waitKey(0)\n",
    "    if k == 27:\n",
    "        cv2.destroyAllWindows()\n",
    "        break\n"
   ]
  }
 ],
 "metadata": {
  "kernelspec": {
   "display_name": "Python 3",
   "language": "python",
   "name": "python3"
  },
  "language_info": {
   "codemirror_mode": {
    "name": "ipython",
    "version": 3
   },
   "file_extension": ".py",
   "mimetype": "text/x-python",
   "name": "python",
   "nbconvert_exporter": "python",
   "pygments_lexer": "ipython3",
   "version": "3.7.4"
  }
 },
 "nbformat": 4,
 "nbformat_minor": 2
}
