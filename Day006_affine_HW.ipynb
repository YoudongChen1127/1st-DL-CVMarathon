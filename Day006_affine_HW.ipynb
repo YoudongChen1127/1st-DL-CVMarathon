{
 "cells": [
  {
   "cell_type": "code",
   "execution_count": null,
   "metadata": {},
   "outputs": [],
   "source": [
    "import cv2\n",
    "import time\n",
    "import numpy as np\n",
    "\n",
    "img = cv2.imread('/Users/User/Desktop/AI_marathon/material/lena.png')\n",
    "\n",
    "# 給定兩兩一對，共三對的點\n",
    "# 這邊我們先用手動設定三對點，一般情況下會有點的資料或是透過介面手動標記三個點\n",
    "rows, cols = img.shape[:2]  # 得到图片的高和宽\n",
    "pt1 = np.array([\n",
    "    [50,50],\n",
    "    [300,100],\n",
    "    [200,300]\n",
    "], dtype=np.float32)  # 定义对应的点(point1)\n",
    "pt2 = np.array([\n",
    "    [80,80], \n",
    "    [330,150], \n",
    "    [300,300]\n",
    "], dtype=np.float32)  # 定义对应的点(point2)\n",
    "\n",
    "# 取得 affine 矩陣並做 affine 操作\n",
    "'''\n",
    "cv2.getAffineTransform()用来获取仿射变形的矩阵，矩阵为2x3阶。\n",
    "\n",
    "可以通过三个点的对应坐标求出这个矩阵。\n",
    "'''\n",
    "M_affine = cv2.getAffineTransform(pt1,pt2)  # 变换矩阵M\n",
    "img_affine = cv2.warpAffine(img, M_affine, (cols, rows))  # 变换后的图像\n",
    "\n",
    "# 在圖片上標記點\n",
    "img_copy = img.copy()\n",
    "for idx, pts in enumerate(pt1):\n",
    "    pts = tuple(map(int, pts))\n",
    "    cv2.circle(img_copy, pts, 3, (0, 255, 0), -1)\n",
    "    cv2.putText(img_copy, str(idx), (pts[0]+5, pts[1]+5), cv2.FONT_HERSHEY_COMPLEX, 1, (0, 255, 0), 1)\n",
    "\n",
    "for idx, pts in enumerate(pt2):\n",
    "    pts = tuple(map(int, pts))\n",
    "    cv2.circle(img_affine, pts, 3, (0, 255, 0), -1)\n",
    "    cv2.putText(img_affine, str(idx), (pts[0]+5, pts[1]+5), cv2.FONT_HERSHEY_COMPLEX, 1, (0, 255, 0), 1)\n",
    "\n",
    "# 組合 + 顯示圖片\n",
    "img_show_affine = np.hstack((img_copy, img_affine))\n",
    "while True:\n",
    "    cv2.imshow('affine transformation', img_show_affine)\n",
    "    k = cv2.waitKey(0)\n",
    "    if k == 27:\n",
    "        cv2.destroyAllWindows()\n",
    "        break"
   ]
  }
 ],
 "metadata": {
  "kernelspec": {
   "display_name": "Python 3",
   "language": "python",
   "name": "python3"
  },
  "language_info": {
   "codemirror_mode": {
    "name": "ipython",
    "version": 3
   },
   "file_extension": ".py",
   "mimetype": "text/x-python",
   "name": "python",
   "nbconvert_exporter": "python",
   "pygments_lexer": "ipython3",
   "version": "3.7.4"
  }
 },
 "nbformat": 4,
 "nbformat_minor": 2
}
